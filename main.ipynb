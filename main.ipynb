{
 "cells": [
  {
   "cell_type": "code",
   "execution_count": 8,
   "id": "8e3d7d06",
   "metadata": {},
   "outputs": [
    {
     "name": "stdout",
     "output_type": "stream",
     "text": [
      "Defaulting to user installation because normal site-packages is not writeable\n",
      "Requirement already satisfied: exifread in /Users/rs_en/Library/Python/3.9/lib/python/site-packages (3.3.1)\n",
      "Requirement already satisfied: pandas in /Users/rs_en/Library/Python/3.9/lib/python/site-packages (2.2.3)\n",
      "Requirement already satisfied: numpy in /Users/rs_en/Library/Python/3.9/lib/python/site-packages (2.0.2)\n",
      "Requirement already satisfied: scikit-learn in /Users/rs_en/Library/Python/3.9/lib/python/site-packages (1.6.1)\n",
      "Requirement already satisfied: folium in /Users/rs_en/Library/Python/3.9/lib/python/site-packages (0.19.6)\n",
      "Requirement already satisfied: python-dateutil>=2.8.2 in /Users/rs_en/Library/Python/3.9/lib/python/site-packages (from pandas) (2.9.0.post0)\n",
      "Requirement already satisfied: pytz>=2020.1 in /Users/rs_en/Library/Python/3.9/lib/python/site-packages (from pandas) (2025.2)\n",
      "Requirement already satisfied: tzdata>=2022.7 in /Users/rs_en/Library/Python/3.9/lib/python/site-packages (from pandas) (2025.2)\n",
      "Requirement already satisfied: scipy>=1.6.0 in /Users/rs_en/Library/Python/3.9/lib/python/site-packages (from scikit-learn) (1.13.1)\n",
      "Requirement already satisfied: joblib>=1.2.0 in /Users/rs_en/Library/Python/3.9/lib/python/site-packages (from scikit-learn) (1.5.1)\n",
      "Requirement already satisfied: threadpoolctl>=3.1.0 in /Users/rs_en/Library/Python/3.9/lib/python/site-packages (from scikit-learn) (3.6.0)\n",
      "Requirement already satisfied: branca>=0.6.0 in /Users/rs_en/Library/Python/3.9/lib/python/site-packages (from folium) (0.8.1)\n",
      "Requirement already satisfied: jinja2>=2.9 in /Users/rs_en/Library/Python/3.9/lib/python/site-packages (from folium) (3.1.6)\n",
      "Requirement already satisfied: requests in /Users/rs_en/Library/Python/3.9/lib/python/site-packages (from folium) (2.32.3)\n",
      "Requirement already satisfied: xyzservices in /Users/rs_en/Library/Python/3.9/lib/python/site-packages (from folium) (2025.4.0)\n",
      "Requirement already satisfied: MarkupSafe>=2.0 in /Users/rs_en/Library/Python/3.9/lib/python/site-packages (from jinja2>=2.9->folium) (2.1.5)\n",
      "Requirement already satisfied: six>=1.5 in /Library/Developer/CommandLineTools/Library/Frameworks/Python3.framework/Versions/3.9/lib/python3.9/site-packages (from python-dateutil>=2.8.2->pandas) (1.15.0)\n",
      "Requirement already satisfied: charset-normalizer<4,>=2 in /Users/rs_en/Library/Python/3.9/lib/python/site-packages (from requests->folium) (3.4.2)\n",
      "Requirement already satisfied: idna<4,>=2.5 in /Users/rs_en/Library/Python/3.9/lib/python/site-packages (from requests->folium) (3.10)\n",
      "Requirement already satisfied: urllib3<3,>=1.21.1 in /Users/rs_en/Library/Python/3.9/lib/python/site-packages (from requests->folium) (2.4.0)\n",
      "Requirement already satisfied: certifi>=2017.4.17 in /Users/rs_en/Library/Python/3.9/lib/python/site-packages (from requests->folium) (2025.4.26)\n",
      "Note: you may need to restart the kernel to use updated packages.\n"
     ]
    }
   ],
   "source": [
    "pip install exifread pandas numpy scikit-learn folium"
   ]
  },
  {
   "cell_type": "code",
   "execution_count": 9,
   "id": "83c10f41",
   "metadata": {},
   "outputs": [],
   "source": [
    "import os\n",
    "import exifread\n",
    "import pandas as pd\n",
    "import numpy as np\n",
    "from sklearn.cluster import DBSCAN\n",
    "from sklearn.preprocessing import StandardScaler\n",
    "import folium"
   ]
  },
  {
   "cell_type": "code",
   "execution_count": 10,
   "id": "6f106397",
   "metadata": {},
   "outputs": [],
   "source": [
    "# Helper: Convert GPS to decimal\n",
    "def _convert_to_degrees(value):\n",
    "    d = float(value[0].num) / float(value[0].den)\n",
    "    m = float(value[1].num) / float(value[1].den)\n",
    "    s = float(value[2].num) / float(value[2].den)\n",
    "    return d + (m / 60.0) + (s / 3600.0)\n"
   ]
  },
  {
   "cell_type": "code",
   "execution_count": 11,
   "id": "ae32ddb3",
   "metadata": {},
   "outputs": [],
   "source": [
    "# Extract GPS from image\n",
    "def get_lat_lon(img_path):\n",
    "    with open(img_path, 'rb') as f:\n",
    "        tags = exifread.process_file(f, stop_tag='GPS GPSLongitude')\n",
    "        \n",
    "        if 'GPS GPSLatitude' in tags and 'GPS GPSLongitude' in tags:\n",
    "            lat = _convert_to_degrees(tags['GPS GPSLatitude'].values)\n",
    "            lon = _convert_to_degrees(tags['GPS GPSLongitude'].values)\n",
    "\n",
    "            # Check direction (N/S, E/W)\n",
    "            lat_ref = tags['GPS GPSLatitudeRef'].printable\n",
    "            lon_ref = tags['GPS GPSLongitudeRef'].printable\n",
    "\n",
    "            if lat_ref != 'N':\n",
    "                lat = -lat\n",
    "            if lon_ref != 'E':\n",
    "                lon = -lon\n",
    "            return lat, lon\n",
    "    return None, None"
   ]
  },
  {
   "cell_type": "code",
   "execution_count": 12,
   "id": "f882fd8c",
   "metadata": {},
   "outputs": [],
   "source": [
    "# Process all images\n",
    "image_folder = 'archive'\n",
    "data = []\n",
    "for filename in os.listdir(image_folder):\n",
    "    if filename.lower().endswith('.jpg') or filename.lower().endswith('.jpeg'):\n",
    "        path = os.path.join(image_folder, filename)\n",
    "        lat, lon = get_lat_lon(path)\n",
    "        if lat and lon:\n",
    "            data.append({'filename': filename, 'Latitude': lat, 'Longitude': lon})"
   ]
  },
  {
   "cell_type": "code",
   "execution_count": 13,
   "id": "902f2043",
   "metadata": {},
   "outputs": [],
   "source": [
    "# Convert to DataFrame\n",
    "df = pd.DataFrame(data)\n",
    "\n",
    "if df.empty:\n",
    "    print(\"No valid geotagged images found.\")\n",
    "    exit()"
   ]
  },
  {
   "cell_type": "code",
   "execution_count": 14,
   "id": "d287098f",
   "metadata": {},
   "outputs": [],
   "source": [
    "# DBSCAN Clustering\n",
    "coords = df[['Latitude', 'Longitude']].values\n",
    "scaler = StandardScaler()\n",
    "coords_scaled = scaler.fit_transform(coords)\n",
    "db = DBSCAN(eps=0.3, min_samples=3).fit(coords_scaled)\n",
    "df['Cluster'] = db.labels_"
   ]
  },
  {
   "cell_type": "code",
   "execution_count": 15,
   "id": "d2c44195",
   "metadata": {},
   "outputs": [
    {
     "name": "stdout",
     "output_type": "stream",
     "text": [
      "       filename   Latitude  Longitude  Cluster\n",
      "0  IMG_7747.JPG  46.594915   6.566144        0\n",
      "1  IMG_7753.JPG  46.593656   6.567699       -1\n",
      "2  IMG_7752.JPG  46.593672   6.565396       -1\n",
      "3  IMG_7746.JPG  46.595520   6.567692       -1\n",
      "4  IMG_7750.JPG  46.594612   6.565440       -1\n"
     ]
    }
   ],
   "source": [
    "# Save and Show Results\n",
    "# ---------------------\n",
    "print(df.head())\n",
    "df.to_csv('clustered_locations.csv', index=False)"
   ]
  },
  {
   "cell_type": "code",
   "execution_count": 17,
   "id": "9fa53c8f",
   "metadata": {},
   "outputs": [
    {
     "name": "stdout",
     "output_type": "stream",
     "text": [
      "\n",
      "📌 Clustering Results:\n",
      "Image: IMG_7747.JPG, Latitude: 46.594915, Longitude: 6.566144, Cluster: 0\n",
      "Image: IMG_7753.JPG, Latitude: 46.593656, Longitude: 6.567699, Cluster: -1\n",
      "Image: IMG_7752.JPG, Latitude: 46.593672, Longitude: 6.565396, Cluster: -1\n",
      "Image: IMG_7746.JPG, Latitude: 46.595520, Longitude: 6.567692, Cluster: -1\n",
      "Image: IMG_7750.JPG, Latitude: 46.594612, Longitude: 6.565440, Cluster: -1\n",
      "Image: IMG_7744.JPG, Latitude: 46.594793, Longitude: 6.568963, Cluster: -1\n",
      "Image: IMG_7745.JPG, Latitude: 46.595473, Longitude: 6.568057, Cluster: -1\n",
      "Image: IMG_7751.JPG, Latitude: 46.593992, Longitude: 6.564960, Cluster: -1\n",
      "Image: IMG_7755.JPG, Latitude: 46.593541, Longitude: 6.568142, Cluster: 1\n",
      "Image: IMG_7741.JPG, Latitude: 46.593817, Longitude: 6.568697, Cluster: -1\n",
      "Image: IMG_7740.JPG, Latitude: 46.593201, Longitude: 6.567214, Cluster: -1\n",
      "Image: IMG_7754.JPG, Latitude: 46.593567, Longitude: 6.568101, Cluster: 1\n",
      "Image: IMG_7742.JPG, Latitude: 46.594180, Longitude: 6.568982, Cluster: -1\n",
      "Image: IMG_7743.JPG, Latitude: 46.594286, Longitude: 6.569003, Cluster: -1\n",
      "Image: IMG_7724.JPG, Latitude: 46.594776, Longitude: 6.568146, Cluster: -1\n",
      "Image: IMG_7730.JPG, Latitude: 46.594980, Longitude: 6.566576, Cluster: 0\n",
      "Image: IMG_7731.JPG, Latitude: 46.594868, Longitude: 6.566312, Cluster: 0\n",
      "Image: IMG_7725.JPG, Latitude: 46.594997, Longitude: 6.567629, Cluster: 2\n",
      "Image: IMG_7719.JPG, Latitude: 46.593447, Longitude: 6.567020, Cluster: 3\n",
      "Image: IMG_7733.JPG, Latitude: 46.594352, Longitude: 6.565922, Cluster: 4\n",
      "Image: IMG_7727.JPG, Latitude: 46.595064, Longitude: 6.567449, Cluster: 2\n",
      "Image: IMG_7726.JPG, Latitude: 46.595019, Longitude: 6.567494, Cluster: 2\n",
      "Image: IMG_7732.JPG, Latitude: 46.594402, Longitude: 6.565971, Cluster: 4\n",
      "Image: IMG_7736.JPG, Latitude: 46.593510, Longitude: 6.566670, Cluster: -1\n",
      "Image: IMG_7722.JPG, Latitude: 46.593564, Longitude: 6.568009, Cluster: 1\n",
      "Image: IMG_7723.JPG, Latitude: 46.594193, Longitude: 6.568465, Cluster: -1\n",
      "Image: IMG_7737.JPG, Latitude: 46.593435, Longitude: 6.567122, Cluster: 3\n",
      "Image: IMG_7721.JPG, Latitude: 46.593452, Longitude: 6.567210, Cluster: 3\n",
      "Image: IMG_7735.JPG, Latitude: 46.593638, Longitude: 6.566279, Cluster: -1\n",
      "Image: IMG_7734.JPG, Latitude: 46.594337, Longitude: 6.565936, Cluster: 4\n",
      "Image: IMG_7720.JPG, Latitude: 46.593419, Longitude: 6.567106, Cluster: 3\n",
      "Image: IMG_7739.JPG, Latitude: 46.593079, Longitude: 6.567107, Cluster: -1\n",
      "Image: IMG_7738.JPG, Latitude: 46.593178, Longitude: 6.566591, Cluster: -1\n",
      "Image: IMG_7728.JPG, Latitude: 46.595041, Longitude: 6.567375, Cluster: 2\n",
      "Image: IMG_7729.JPG, Latitude: 46.595074, Longitude: 6.567271, Cluster: 2\n",
      "Image: IMG_7748.JPG, Latitude: 46.594851, Longitude: 6.565863, Cluster: 0\n",
      "Image: IMG_7749.JPG, Latitude: 46.594856, Longitude: 6.565356, Cluster: -1\n"
     ]
    }
   ],
   "source": [
    "# Print all clustered results\n",
    "print(\"\\n📌 Clustering Results:\")\n",
    "for idx, row in df.iterrows():\n",
    "    print(f\"Image: {row['filename']}, Latitude: {row['Latitude']:.6f}, Longitude: {row['Longitude']:.6f}, Cluster: {row['Cluster']}\")\n",
    "    "
   ]
  },
  {
   "cell_type": "code",
   "execution_count": 18,
   "id": "6cab6c49",
   "metadata": {},
   "outputs": [
    {
     "name": "stdout",
     "output_type": "stream",
     "text": [
      "Map saved as 'geotagged_clusters_map.html'\n"
     ]
    }
   ],
   "source": [
    "# Visualize with Folium\n",
    "m = folium.Map(location=[df['Latitude'].mean(), df['Longitude'].mean()], zoom_start=13)\n",
    "\n",
    "colors = ['blue', 'green', 'purple', 'orange', 'darkred', 'cadetblue']\n",
    "for _, row in df.iterrows():\n",
    "    cluster_color = 'red' if row['Cluster'] == -1 else colors[row['Cluster'] % len(colors)]\n",
    "    folium.CircleMarker(\n",
    "        location=[row['Latitude'], row['Longitude']],\n",
    "        radius=5,\n",
    "        color=cluster_color,\n",
    "        fill=True,\n",
    "        fill_opacity=0.6,\n",
    "        tooltip=f\"Image: {row['filename']} | Cluster: {row['Cluster']}\"\n",
    "    ).add_to(m)\n",
    "\n",
    "m.save('geotagged_clusters_map.html')\n",
    "print(\"Map saved as 'geotagged_clusters_map.html'\")"
   ]
  }
 ],
 "metadata": {
  "kernelspec": {
   "display_name": "Python 3",
   "language": "python",
   "name": "python3"
  },
  "language_info": {
   "codemirror_mode": {
    "name": "ipython",
    "version": 3
   },
   "file_extension": ".py",
   "mimetype": "text/x-python",
   "name": "python",
   "nbconvert_exporter": "python",
   "pygments_lexer": "ipython3",
   "version": "3.9.6"
  }
 },
 "nbformat": 4,
 "nbformat_minor": 5
}
